{
 "cells": [
  {
   "cell_type": "code",
   "execution_count": 1,
   "metadata": {
    "colab": {
     "base_uri": "https://localhost:8080/",
     "height": 34
    },
    "colab_type": "code",
    "id": "tuNw1_MoF8Qa",
    "outputId": "9eb89507-7f0a-40cf-dfe8-f903309630f9"
   },
   "outputs": [
    {
     "name": "stderr",
     "output_type": "stream",
     "text": [
      "Using TensorFlow backend.\n"
     ]
    }
   ],
   "source": [
    "import keras"
   ]
  },
  {
   "cell_type": "code",
   "execution_count": 0,
   "metadata": {
    "colab": {},
    "colab_type": "code",
    "id": "qvW7ACPwHShq"
   },
   "outputs": [],
   "source": [
    "import pandas as pd\n",
    "import numpy as np\n",
    "import matplotlib.pyplot as plt"
   ]
  },
  {
   "cell_type": "code",
   "execution_count": 0,
   "metadata": {
    "colab": {},
    "colab_type": "code",
    "id": "hOUrCmGTHwBx"
   },
   "outputs": [],
   "source": [
    "dataset=pd.read_csv(\"Churn_Modelling.csv\")"
   ]
  },
  {
   "cell_type": "code",
   "execution_count": 0,
   "metadata": {
    "colab": {},
    "colab_type": "code",
    "id": "pt3YQn9HIY2I"
   },
   "outputs": [],
   "source": [
    "#Creating matrix of features\n",
    "X=dataset.iloc[:,3:13].values\n",
    "y=dataset.iloc[:,13].values"
   ]
  },
  {
   "cell_type": "code",
   "execution_count": 6,
   "metadata": {
    "colab": {
     "base_uri": "https://localhost:8080/",
     "height": 224
    },
    "colab_type": "code",
    "id": "qIdTjm0aIWsD",
    "outputId": "8f8f20e8-0ae1-4ff9-dabd-c5536a9ee928"
   },
   "outputs": [
    {
     "data": {
      "text/html": [
       "<div>\n",
       "<style scoped>\n",
       "    .dataframe tbody tr th:only-of-type {\n",
       "        vertical-align: middle;\n",
       "    }\n",
       "\n",
       "    .dataframe tbody tr th {\n",
       "        vertical-align: top;\n",
       "    }\n",
       "\n",
       "    .dataframe thead th {\n",
       "        text-align: right;\n",
       "    }\n",
       "</style>\n",
       "<table border=\"1\" class=\"dataframe\">\n",
       "  <thead>\n",
       "    <tr style=\"text-align: right;\">\n",
       "      <th></th>\n",
       "      <th>RowNumber</th>\n",
       "      <th>CustomerId</th>\n",
       "      <th>Surname</th>\n",
       "      <th>CreditScore</th>\n",
       "      <th>Geography</th>\n",
       "      <th>Gender</th>\n",
       "      <th>Age</th>\n",
       "      <th>Tenure</th>\n",
       "      <th>Balance</th>\n",
       "      <th>NumOfProducts</th>\n",
       "      <th>HasCrCard</th>\n",
       "      <th>IsActiveMember</th>\n",
       "      <th>EstimatedSalary</th>\n",
       "      <th>Exited</th>\n",
       "    </tr>\n",
       "  </thead>\n",
       "  <tbody>\n",
       "    <tr>\n",
       "      <th>0</th>\n",
       "      <td>1</td>\n",
       "      <td>15634602</td>\n",
       "      <td>Hargrave</td>\n",
       "      <td>619</td>\n",
       "      <td>France</td>\n",
       "      <td>Female</td>\n",
       "      <td>42</td>\n",
       "      <td>2</td>\n",
       "      <td>0.00</td>\n",
       "      <td>1</td>\n",
       "      <td>1</td>\n",
       "      <td>1</td>\n",
       "      <td>101348.88</td>\n",
       "      <td>1</td>\n",
       "    </tr>\n",
       "    <tr>\n",
       "      <th>1</th>\n",
       "      <td>2</td>\n",
       "      <td>15647311</td>\n",
       "      <td>Hill</td>\n",
       "      <td>608</td>\n",
       "      <td>Spain</td>\n",
       "      <td>Female</td>\n",
       "      <td>41</td>\n",
       "      <td>1</td>\n",
       "      <td>83807.86</td>\n",
       "      <td>1</td>\n",
       "      <td>0</td>\n",
       "      <td>1</td>\n",
       "      <td>112542.58</td>\n",
       "      <td>0</td>\n",
       "    </tr>\n",
       "    <tr>\n",
       "      <th>2</th>\n",
       "      <td>3</td>\n",
       "      <td>15619304</td>\n",
       "      <td>Onio</td>\n",
       "      <td>502</td>\n",
       "      <td>France</td>\n",
       "      <td>Female</td>\n",
       "      <td>42</td>\n",
       "      <td>8</td>\n",
       "      <td>159660.80</td>\n",
       "      <td>3</td>\n",
       "      <td>1</td>\n",
       "      <td>0</td>\n",
       "      <td>113931.57</td>\n",
       "      <td>1</td>\n",
       "    </tr>\n",
       "    <tr>\n",
       "      <th>3</th>\n",
       "      <td>4</td>\n",
       "      <td>15701354</td>\n",
       "      <td>Boni</td>\n",
       "      <td>699</td>\n",
       "      <td>France</td>\n",
       "      <td>Female</td>\n",
       "      <td>39</td>\n",
       "      <td>1</td>\n",
       "      <td>0.00</td>\n",
       "      <td>2</td>\n",
       "      <td>0</td>\n",
       "      <td>0</td>\n",
       "      <td>93826.63</td>\n",
       "      <td>0</td>\n",
       "    </tr>\n",
       "    <tr>\n",
       "      <th>4</th>\n",
       "      <td>5</td>\n",
       "      <td>15737888</td>\n",
       "      <td>Mitchell</td>\n",
       "      <td>850</td>\n",
       "      <td>Spain</td>\n",
       "      <td>Female</td>\n",
       "      <td>43</td>\n",
       "      <td>2</td>\n",
       "      <td>125510.82</td>\n",
       "      <td>1</td>\n",
       "      <td>1</td>\n",
       "      <td>1</td>\n",
       "      <td>79084.10</td>\n",
       "      <td>0</td>\n",
       "    </tr>\n",
       "  </tbody>\n",
       "</table>\n",
       "</div>"
      ],
      "text/plain": [
       "   RowNumber  CustomerId   Surname  CreditScore Geography  Gender  Age  \\\n",
       "0          1    15634602  Hargrave          619    France  Female   42   \n",
       "1          2    15647311      Hill          608     Spain  Female   41   \n",
       "2          3    15619304      Onio          502    France  Female   42   \n",
       "3          4    15701354      Boni          699    France  Female   39   \n",
       "4          5    15737888  Mitchell          850     Spain  Female   43   \n",
       "\n",
       "   Tenure    Balance  NumOfProducts  HasCrCard  IsActiveMember  \\\n",
       "0       2       0.00              1          1               1   \n",
       "1       1   83807.86              1          0               1   \n",
       "2       8  159660.80              3          1               0   \n",
       "3       1       0.00              2          0               0   \n",
       "4       2  125510.82              1          1               1   \n",
       "\n",
       "   EstimatedSalary  Exited  \n",
       "0        101348.88       1  \n",
       "1        112542.58       0  \n",
       "2        113931.57       1  \n",
       "3         93826.63       0  \n",
       "4         79084.10       0  "
      ]
     },
     "execution_count": 6,
     "metadata": {
      "tags": []
     },
     "output_type": "execute_result"
    }
   ],
   "source": [
    "dataset.head()"
   ]
  },
  {
   "cell_type": "markdown",
   "metadata": {
    "colab_type": "text",
    "id": "7vNZ5jsRO7Pl"
   },
   "source": [
    "***Data Preprocessing***"
   ]
  },
  {
   "cell_type": "code",
   "execution_count": 0,
   "metadata": {
    "colab": {},
    "colab_type": "code",
    "id": "HM9D72JAKlP4"
   },
   "outputs": [],
   "source": [
    "# Encoding categorical data\n",
    "from sklearn.preprocessing import LabelEncoder,OneHotEncoder"
   ]
  },
  {
   "cell_type": "code",
   "execution_count": 0,
   "metadata": {
    "colab": {},
    "colab_type": "code",
    "id": "aRm6Nt9KN6v-"
   },
   "outputs": [],
   "source": [
    "labelencoder_X_1 = LabelEncoder()\n",
    "X[:, 1] = labelencoder_X_1.fit_transform(X[:, 1])\n",
    "labelencoder_X_2 = LabelEncoder()\n",
    "X[:, 2] = labelencoder_X_2.fit_transform(X[:, 2])"
   ]
  },
  {
   "cell_type": "code",
   "execution_count": 0,
   "metadata": {
    "colab": {},
    "colab_type": "code",
    "id": "Xt0MsXOBOEno"
   },
   "outputs": [],
   "source": [
    "onehotencoder = OneHotEncoder(categorical_features = [1])\n",
    "X = onehotencoder.fit_transform(X).toarray()\n",
    "#To avoid Dummy Variable Trap\n",
    "X = X[:, 1:]\n"
   ]
  },
  {
   "cell_type": "code",
   "execution_count": 0,
   "metadata": {
    "colab": {},
    "colab_type": "code",
    "id": "mDCTQ8MQOUvq"
   },
   "outputs": [],
   "source": [
    "# Splitting the dataset into the Training set and Test set\n",
    "from sklearn.model_selection import train_test_split\n",
    "X_train, X_test, y_train, y_test = train_test_split(X, y, test_size = 0.2, random_state = 0)\n",
    "\n"
   ]
  },
  {
   "cell_type": "code",
   "execution_count": 0,
   "metadata": {
    "colab": {},
    "colab_type": "code",
    "id": "hSxDSHSLOfw9"
   },
   "outputs": [],
   "source": [
    "# Feature Scaling\n",
    "from sklearn.preprocessing import StandardScaler\n",
    "sc = StandardScaler()\n",
    "X_train = sc.fit_transform(X_train)\n",
    "X_test = sc.transform(X_test)\n"
   ]
  },
  {
   "cell_type": "markdown",
   "metadata": {
    "colab_type": "text",
    "id": "9rUxU1WuQq5r"
   },
   "source": [
    "**Building ANN**"
   ]
  },
  {
   "cell_type": "code",
   "execution_count": 0,
   "metadata": {
    "colab": {},
    "colab_type": "code",
    "id": "ljQtQjcXPbMu"
   },
   "outputs": [],
   "source": [
    "import keras\n",
    "from keras.models import Sequential\n",
    "from keras.layers import Dense\n"
   ]
  },
  {
   "cell_type": "code",
   "execution_count": 0,
   "metadata": {
    "colab": {},
    "colab_type": "code",
    "id": "MqGkvsgkQltC"
   },
   "outputs": [],
   "source": [
    "# Initialising the ANN\n",
    "classifier = Sequential()"
   ]
  },
  {
   "cell_type": "code",
   "execution_count": 14,
   "metadata": {
    "colab": {
     "base_uri": "https://localhost:8080/",
     "height": 3451
    },
    "colab_type": "code",
    "id": "e6jizdY-XlEC",
    "outputId": "339ffbba-0fbe-4d45-f2e6-b3b7f87ee408"
   },
   "outputs": [
    {
     "name": "stderr",
     "output_type": "stream",
     "text": [
      "/usr/local/lib/python3.6/dist-packages/keras/models.py:981: UserWarning: The `nb_epoch` argument in `fit` has been renamed `epochs`.\n",
      "  warnings.warn('The `nb_epoch` argument in `fit` '\n"
     ]
    },
    {
     "name": "stdout",
     "output_type": "stream",
     "text": [
      "Epoch 1/100\n",
      "8000/8000 [==============================] - 1s 163us/step - loss: 0.5420 - acc: 0.7825\n",
      "Epoch 2/100\n",
      "8000/8000 [==============================] - 1s 124us/step - loss: 0.4903 - acc: 0.7960\n",
      "Epoch 3/100\n",
      "8000/8000 [==============================] - 1s 120us/step - loss: 0.4722 - acc: 0.7960\n",
      "Epoch 4/100\n",
      "8000/8000 [==============================] - 1s 121us/step - loss: 0.4553 - acc: 0.7960\n",
      "Epoch 5/100\n",
      "8000/8000 [==============================] - 1s 122us/step - loss: 0.4423 - acc: 0.7960\n",
      "Epoch 6/100\n",
      "8000/8000 [==============================] - 1s 120us/step - loss: 0.4342 - acc: 0.7960\n",
      "Epoch 7/100\n",
      "8000/8000 [==============================] - 1s 122us/step - loss: 0.4288 - acc: 0.7960\n",
      "Epoch 8/100\n",
      "8000/8000 [==============================] - 1s 124us/step - loss: 0.4250 - acc: 0.7960\n",
      "Epoch 9/100\n",
      "8000/8000 [==============================] - 1s 120us/step - loss: 0.4218 - acc: 0.7985\n",
      "Epoch 10/100\n",
      "8000/8000 [==============================] - 1s 122us/step - loss: 0.4190 - acc: 0.8184\n",
      "Epoch 11/100\n",
      "8000/8000 [==============================] - 1s 122us/step - loss: 0.4162 - acc: 0.8222\n",
      "Epoch 12/100\n",
      "8000/8000 [==============================] - 1s 119us/step - loss: 0.4137 - acc: 0.8244\n",
      "Epoch 13/100\n",
      "8000/8000 [==============================] - 1s 121us/step - loss: 0.4103 - acc: 0.8262\n",
      "Epoch 14/100\n",
      "8000/8000 [==============================] - 1s 122us/step - loss: 0.4065 - acc: 0.8254\n",
      "Epoch 15/100\n",
      "8000/8000 [==============================] - 1s 120us/step - loss: 0.4024 - acc: 0.8269\n",
      "Epoch 16/100\n",
      "8000/8000 [==============================] - 1s 121us/step - loss: 0.3983 - acc: 0.8296\n",
      "Epoch 17/100\n",
      "8000/8000 [==============================] - 1s 120us/step - loss: 0.3938 - acc: 0.8301\n",
      "Epoch 18/100\n",
      "8000/8000 [==============================] - 1s 120us/step - loss: 0.3895 - acc: 0.8312\n",
      "Epoch 19/100\n",
      "8000/8000 [==============================] - 1s 121us/step - loss: 0.3846 - acc: 0.8336\n",
      "Epoch 20/100\n",
      "8000/8000 [==============================] - 1s 122us/step - loss: 0.3799 - acc: 0.8342\n",
      "Epoch 21/100\n",
      "8000/8000 [==============================] - 1s 122us/step - loss: 0.3758 - acc: 0.8375\n",
      "Epoch 22/100\n",
      "8000/8000 [==============================] - 1s 119us/step - loss: 0.3725 - acc: 0.8407\n",
      "Epoch 23/100\n",
      "8000/8000 [==============================] - 1s 123us/step - loss: 0.3701 - acc: 0.8434\n",
      "Epoch 24/100\n",
      "8000/8000 [==============================] - 1s 121us/step - loss: 0.3670 - acc: 0.8452\n",
      "Epoch 25/100\n",
      "8000/8000 [==============================] - 1s 122us/step - loss: 0.3646 - acc: 0.8506\n",
      "Epoch 26/100\n",
      "8000/8000 [==============================] - 1s 118us/step - loss: 0.3630 - acc: 0.8492\n",
      "Epoch 27/100\n",
      "8000/8000 [==============================] - 1s 121us/step - loss: 0.3604 - acc: 0.8504\n",
      "Epoch 28/100\n",
      "8000/8000 [==============================] - 1s 119us/step - loss: 0.3580 - acc: 0.8532\n",
      "Epoch 29/100\n",
      "8000/8000 [==============================] - 1s 119us/step - loss: 0.3567 - acc: 0.8522\n",
      "Epoch 30/100\n",
      "8000/8000 [==============================] - 1s 121us/step - loss: 0.3546 - acc: 0.8555\n",
      "Epoch 31/100\n",
      "8000/8000 [==============================] - 1s 123us/step - loss: 0.3527 - acc: 0.8562\n",
      "Epoch 32/100\n",
      "8000/8000 [==============================] - 1s 120us/step - loss: 0.3511 - acc: 0.8562\n",
      "Epoch 33/100\n",
      "8000/8000 [==============================] - 1s 123us/step - loss: 0.3497 - acc: 0.8574\n",
      "Epoch 34/100\n",
      "8000/8000 [==============================] - 1s 121us/step - loss: 0.3483 - acc: 0.8587\n",
      "Epoch 35/100\n",
      "8000/8000 [==============================] - 1s 123us/step - loss: 0.3477 - acc: 0.8595\n",
      "Epoch 36/100\n",
      "8000/8000 [==============================] - 1s 121us/step - loss: 0.3453 - acc: 0.8602\n",
      "Epoch 37/100\n",
      "8000/8000 [==============================] - 1s 119us/step - loss: 0.3450 - acc: 0.8614\n",
      "Epoch 38/100\n",
      "8000/8000 [==============================] - 1s 119us/step - loss: 0.3446 - acc: 0.8587\n",
      "Epoch 39/100\n",
      "8000/8000 [==============================] - 1s 121us/step - loss: 0.3440 - acc: 0.8610\n",
      "Epoch 40/100\n",
      "8000/8000 [==============================] - 1s 119us/step - loss: 0.3434 - acc: 0.8615\n",
      "Epoch 41/100\n",
      "8000/8000 [==============================] - 1s 121us/step - loss: 0.3425 - acc: 0.8607\n",
      "Epoch 42/100\n",
      "8000/8000 [==============================] - 1s 121us/step - loss: 0.3421 - acc: 0.8624\n",
      "Epoch 43/100\n",
      "8000/8000 [==============================] - 1s 119us/step - loss: 0.3416 - acc: 0.8616\n",
      "Epoch 44/100\n",
      "8000/8000 [==============================] - 1s 119us/step - loss: 0.3417 - acc: 0.8616\n",
      "Epoch 45/100\n",
      "8000/8000 [==============================] - 1s 123us/step - loss: 0.3413 - acc: 0.8605\n",
      "Epoch 46/100\n",
      "8000/8000 [==============================] - 1s 122us/step - loss: 0.3413 - acc: 0.8626\n",
      "Epoch 47/100\n",
      "8000/8000 [==============================] - 1s 118us/step - loss: 0.3411 - acc: 0.8626\n",
      "Epoch 48/100\n",
      "8000/8000 [==============================] - 1s 121us/step - loss: 0.3407 - acc: 0.8629\n",
      "Epoch 49/100\n",
      "8000/8000 [==============================] - 1s 119us/step - loss: 0.3404 - acc: 0.8629\n",
      "Epoch 50/100\n",
      "8000/8000 [==============================] - 1s 120us/step - loss: 0.3400 - acc: 0.8627\n",
      "Epoch 51/100\n",
      "8000/8000 [==============================] - 1s 122us/step - loss: 0.3400 - acc: 0.8627\n",
      "Epoch 52/100\n",
      "8000/8000 [==============================] - 1s 120us/step - loss: 0.3396 - acc: 0.8625\n",
      "Epoch 53/100\n",
      "8000/8000 [==============================] - 1s 120us/step - loss: 0.3399 - acc: 0.8612\n",
      "Epoch 54/100\n",
      "8000/8000 [==============================] - 1s 124us/step - loss: 0.3397 - acc: 0.8614\n",
      "Epoch 55/100\n",
      "8000/8000 [==============================] - 1s 118us/step - loss: 0.3395 - acc: 0.8615\n",
      "Epoch 56/100\n",
      "8000/8000 [==============================] - 1s 120us/step - loss: 0.3392 - acc: 0.8627\n",
      "Epoch 57/100\n",
      "8000/8000 [==============================] - 1s 119us/step - loss: 0.3390 - acc: 0.8615\n",
      "Epoch 58/100\n",
      "8000/8000 [==============================] - 1s 122us/step - loss: 0.3390 - acc: 0.8624\n",
      "Epoch 59/100\n",
      "8000/8000 [==============================] - 1s 119us/step - loss: 0.3376 - acc: 0.8625\n",
      "Epoch 60/100\n",
      "8000/8000 [==============================] - 1s 118us/step - loss: 0.3386 - acc: 0.8624\n",
      "Epoch 61/100\n",
      "8000/8000 [==============================] - 1s 119us/step - loss: 0.3379 - acc: 0.8630\n",
      "Epoch 62/100\n",
      "8000/8000 [==============================] - 1s 119us/step - loss: 0.3387 - acc: 0.8625\n",
      "Epoch 63/100\n",
      "8000/8000 [==============================] - 1s 119us/step - loss: 0.3383 - acc: 0.8636\n",
      "Epoch 64/100\n",
      "8000/8000 [==============================] - 1s 118us/step - loss: 0.3385 - acc: 0.8634\n",
      "Epoch 65/100\n",
      "8000/8000 [==============================] - 1s 117us/step - loss: 0.3384 - acc: 0.8645\n",
      "Epoch 66/100\n",
      "8000/8000 [==============================] - 1s 119us/step - loss: 0.3376 - acc: 0.8620\n",
      "Epoch 67/100\n",
      "8000/8000 [==============================] - 1s 120us/step - loss: 0.3380 - acc: 0.8640\n",
      "Epoch 68/100\n",
      "8000/8000 [==============================] - 1s 120us/step - loss: 0.3369 - acc: 0.8635\n",
      "Epoch 69/100\n",
      "8000/8000 [==============================] - 1s 120us/step - loss: 0.3371 - acc: 0.8632\n",
      "Epoch 70/100\n",
      "8000/8000 [==============================] - 1s 119us/step - loss: 0.3365 - acc: 0.8625\n",
      "Epoch 71/100\n",
      "8000/8000 [==============================] - 1s 119us/step - loss: 0.3369 - acc: 0.8617\n",
      "Epoch 72/100\n",
      "8000/8000 [==============================] - 1s 120us/step - loss: 0.3376 - acc: 0.8642\n",
      "Epoch 73/100\n",
      "8000/8000 [==============================] - 1s 118us/step - loss: 0.3367 - acc: 0.8631\n",
      "Epoch 74/100\n",
      "8000/8000 [==============================] - 1s 121us/step - loss: 0.3367 - acc: 0.8619\n",
      "Epoch 75/100\n",
      "8000/8000 [==============================] - 1s 118us/step - loss: 0.3366 - acc: 0.8620\n",
      "Epoch 76/100\n",
      "8000/8000 [==============================] - 1s 120us/step - loss: 0.3374 - acc: 0.8622\n",
      "Epoch 77/100\n",
      "8000/8000 [==============================] - 1s 120us/step - loss: 0.3372 - acc: 0.8617\n",
      "Epoch 78/100\n",
      "8000/8000 [==============================] - 1s 119us/step - loss: 0.3365 - acc: 0.8629\n",
      "Epoch 79/100\n",
      "8000/8000 [==============================] - 1s 119us/step - loss: 0.3360 - acc: 0.8629\n",
      "Epoch 80/100\n",
      "8000/8000 [==============================] - 1s 120us/step - loss: 0.3367 - acc: 0.8644\n",
      "Epoch 81/100\n",
      "8000/8000 [==============================] - 1s 119us/step - loss: 0.3358 - acc: 0.8635\n",
      "Epoch 82/100\n",
      "8000/8000 [==============================] - 1s 119us/step - loss: 0.3361 - acc: 0.8637\n",
      "Epoch 83/100\n",
      "8000/8000 [==============================] - 1s 119us/step - loss: 0.3362 - acc: 0.8625\n",
      "Epoch 84/100\n",
      "8000/8000 [==============================] - 1s 119us/step - loss: 0.3358 - acc: 0.8624\n",
      "Epoch 85/100\n",
      "8000/8000 [==============================] - 1s 120us/step - loss: 0.3362 - acc: 0.8630\n",
      "Epoch 86/100\n",
      "8000/8000 [==============================] - 1s 120us/step - loss: 0.3356 - acc: 0.8640\n",
      "Epoch 87/100\n",
      "8000/8000 [==============================] - 1s 118us/step - loss: 0.3364 - acc: 0.8639\n",
      "Epoch 88/100\n",
      "8000/8000 [==============================] - 1s 119us/step - loss: 0.3359 - acc: 0.8651\n",
      "Epoch 89/100\n",
      "8000/8000 [==============================] - 1s 119us/step - loss: 0.3350 - acc: 0.8611\n",
      "Epoch 90/100\n",
      "8000/8000 [==============================] - 1s 119us/step - loss: 0.3359 - acc: 0.8625\n",
      "Epoch 91/100\n",
      "8000/8000 [==============================] - 1s 121us/step - loss: 0.3359 - acc: 0.8627\n",
      "Epoch 92/100\n",
      "8000/8000 [==============================] - 1s 122us/step - loss: 0.3354 - acc: 0.8640\n",
      "Epoch 93/100\n",
      "8000/8000 [==============================] - 1s 119us/step - loss: 0.3357 - acc: 0.8624\n",
      "Epoch 94/100\n",
      "8000/8000 [==============================] - 1s 119us/step - loss: 0.3362 - acc: 0.8636\n",
      "Epoch 95/100\n",
      "8000/8000 [==============================] - 1s 119us/step - loss: 0.3355 - acc: 0.8632\n",
      "Epoch 96/100\n",
      "8000/8000 [==============================] - 1s 118us/step - loss: 0.3357 - acc: 0.8627\n",
      "Epoch 97/100\n",
      "8000/8000 [==============================] - 1s 121us/step - loss: 0.3351 - acc: 0.8632\n",
      "Epoch 98/100\n",
      "8000/8000 [==============================] - 1s 121us/step - loss: 0.3353 - acc: 0.8624\n",
      "Epoch 99/100\n",
      "8000/8000 [==============================] - 1s 119us/step - loss: 0.3348 - acc: 0.8662\n",
      "Epoch 100/100\n",
      "8000/8000 [==============================] - 1s 120us/step - loss: 0.3354 - acc: 0.8619\n"
     ]
    }
   ],
   "source": [
    "# Adding the input layer and the first hidden layer\n",
    "classifier.add(Dense(units=6,kernel_initializer=\"glorot_normal\", activation = 'relu', input_dim = 11))\n",
    "\n",
    "# Adding the second hidden layer\n",
    "classifier.add(Dense(units = 6, kernel_initializer=\"glorot_normal\", activation = 'relu'))\n",
    "\n",
    "# Adding the output layer\n",
    "classifier.add(Dense(units = 1, kernel_initializer=\"glorot_normal\", activation = 'sigmoid'))\n",
    "\n",
    "# Compiling the ANN\n",
    "classifier.compile(optimizer = 'SGD', loss = 'binary_crossentropy', metrics = ['accuracy'])\n",
    "\n",
    "# Fitting the ANN to the Training set\n",
    "history=classifier.fit(X_train, y_train, batch_size = 10, nb_epoch = 100)"
   ]
  },
  {
   "cell_type": "code",
   "execution_count": 0,
   "metadata": {
    "colab": {},
    "colab_type": "code",
    "id": "BLzFfGn-X-Ea"
   },
   "outputs": [],
   "source": [
    "# Predicting the Test set results\n",
    "y_pred = classifier.predict(X_test)\n",
    "y_pred = (y_pred > 0.5)\n",
    "\n",
    "# Making the Confusion Matrix\n",
    "from sklearn.metrics import confusion_matrix,classification_report\n",
    "cm = confusion_matrix(y_test, y_pred)\n",
    "cr = classification_report(y_test, y_pred)"
   ]
  },
  {
   "cell_type": "code",
   "execution_count": 16,
   "metadata": {
    "colab": {
     "base_uri": "https://localhost:8080/",
     "height": 51
    },
    "colab_type": "code",
    "id": "HbGK9XHDeaFb",
    "outputId": "ea5694d8-584e-4937-ea33-c24a2cf38457"
   },
   "outputs": [
    {
     "data": {
      "text/plain": [
       "array([[1493,  102],\n",
       "       [ 185,  220]])"
      ]
     },
     "execution_count": 16,
     "metadata": {
      "tags": []
     },
     "output_type": "execute_result"
    }
   ],
   "source": [
    "cm"
   ]
  },
  {
   "cell_type": "code",
   "execution_count": 17,
   "metadata": {
    "colab": {
     "base_uri": "https://localhost:8080/",
     "height": 54
    },
    "colab_type": "code",
    "id": "RYlN9umA0MGI",
    "outputId": "6c4b9eeb-4f94-44d3-f0c7-13e6a4f6ada4"
   },
   "outputs": [
    {
     "data": {
      "text/plain": [
       "'             precision    recall  f1-score   support\\n\\n          0       0.89      0.94      0.91      1595\\n          1       0.68      0.54      0.61       405\\n\\navg / total       0.85      0.86      0.85      2000\\n'"
      ]
     },
     "execution_count": 17,
     "metadata": {
      "tags": []
     },
     "output_type": "execute_result"
    }
   ],
   "source": [
    "cr"
   ]
  },
  {
   "cell_type": "code",
   "execution_count": 18,
   "metadata": {
    "colab": {
     "base_uri": "https://localhost:8080/",
     "height": 34
    },
    "colab_type": "code",
    "id": "2oF7PD9Z5kWc",
    "outputId": "871ffaf3-90c5-464c-b6b9-4dd6b946a61f"
   },
   "outputs": [
    {
     "data": {
      "text/plain": [
       "dict_keys(['loss', 'acc'])"
      ]
     },
     "execution_count": 18,
     "metadata": {
      "tags": []
     },
     "output_type": "execute_result"
    }
   ],
   "source": [
    "history.history.keys()"
   ]
  },
  {
   "cell_type": "code",
   "execution_count": 19,
   "metadata": {
    "colab": {
     "base_uri": "https://localhost:8080/",
     "height": 379
    },
    "colab_type": "code",
    "id": "qd4GT9YFVDqN",
    "outputId": "5323220b-2136-483e-fc47-972e8d224079"
   },
   "outputs": [
    {
     "data": {
      "text/plain": [
       "Text(0,0.5,'Loss')"
      ]
     },
     "execution_count": 19,
     "metadata": {
      "tags": []
     },
     "output_type": "execute_result"
    },
    {
     "data": {
      "image/png": "[encoded data removed]",
      "text/plain": [
       "<matplotlib.figure.Figure at 0x7efc17ab7390>"
      ]
     },
     "metadata": {
      "tags": []
     },
     "output_type": "display_data"
    }
   ],
   "source": [
    "plt.plot(history.history['loss'])\n",
    "plt.xlabel(\"Iterations\")\n",
    "plt.ylabel(\"Loss\")\n"
   ]
  }
 ],
 "metadata": {
  "colab": {
   "name": "Untitled0.ipynb",
   "provenance": [],
   "version": "0.3.2"
  },
  "kernelspec": {
   "display_name": "Python 3",
   "language": "python",
   "name": "python3"
  },
  "language_info": {
   "codemirror_mode": {
    "name": "ipython",
    "version": 3
   },
   "file_extension": ".py",
   "mimetype": "text/x-python",
   "name": "python",
   "nbconvert_exporter": "python",
   "pygments_lexer": "ipython3",
   "version": "3.7.0"
  }
 },
 "nbformat": 4,
 "nbformat_minor": 1
}
